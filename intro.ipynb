{
 "cells": [
  {
   "cell_type": "code",
   "execution_count": 52,
   "metadata": {},
   "outputs": [
    {
     "data": {
      "text/plain": [
       "True"
      ]
     },
     "execution_count": 52,
     "metadata": {},
     "output_type": "execute_result"
    }
   ],
   "source": [
    "import os\n",
    "from dotenv import load_dotenv\n",
    "load_dotenv()"
   ]
  },
  {
   "cell_type": "code",
   "execution_count": 53,
   "metadata": {},
   "outputs": [],
   "source": [
    "from langchain_cohere import ChatCohere\n",
    "\n",
    "llm = ChatCohere()\n",
    "\n",
    "# from langchain_google_genai import ChatGoogleGenerativeAI\n",
    "\n",
    "# llm = ChatGoogleGenerativeAI(model=\"gemini-pro\")\n",
    "\n"
   ]
  },
  {
   "cell_type": "code",
   "execution_count": 54,
   "metadata": {},
   "outputs": [],
   "source": [
    "from langchain.prompts import PromptTemplate\n",
    "from langchain.chains import LLMChain\n",
    "\n",
    "prompt_template_name = PromptTemplate(\n",
    "   input_variables=['cuisine'],\n",
    "   template=\"I want to open restaurant for {cuisine} food. suggest a fency name for this.give only one name.\"\n",
    "   \n",
    ")\n",
    "\n",
    "name_chain= LLMChain(llm=llm, prompt=prompt_template_name, output_key=\"restaurant_name\")"
   ]
  },
  {
   "cell_type": "code",
   "execution_count": 55,
   "metadata": {},
   "outputs": [],
   "source": [
    "llm = ChatCohere()\n",
    "prompt_template_item = PromptTemplate(\n",
    "   input_variables=['restaurant_name'],\n",
    "   template=\"Suggest Some menu items for {restaurant_name}.\"\n",
    ")\n",
    "\n",
    "food_item_chain = LLMChain(llm=llm, prompt=prompt_template_item, output_key=\"menu_items\")\n"
   ]
  },
  {
   "cell_type": "code",
   "execution_count": 56,
   "metadata": {},
   "outputs": [
    {
     "name": "stdout",
     "output_type": "stream",
     "text": [
      "{'cuisine': 'Indian', 'restaurant_name': 'Masala Mahal', 'menu_items': 'Masala Mahal is a fictional Indian restaurant, and here are some suggested menu items:\\n\\n- Appetizers:\\n     - Papadam with mint chutney\\n     - Mixed vegetable pakoras\\n     - Chicken tikka\\n     - Fish Amritsari\\n\\n- Main Courses (Vegetarian):\\n     - Dal Makhani - creamy lentils simmered with spices\\n     - Aloo Gobi - potato and cauliflower stir-fried with spices\\n     - Malai Kofta - vegetable dumplings in a creamy cashew gravy\\n     - Palak Paneer - cottage cheese cubes in a spiced spinach gravy\\n     - Navaratan Korma - mixed vegetables in a mild cashew and yogurt gravy\\n\\n- Main Courses (Non-Vegetarian):\\n     - Butter Chicken - tender chicken pieces in a creamy tomato gravy\\n     - Chicken Tikka Masala - grilled chicken cubes in a spiced onion and tomato gravy\\n     - Lamb Vindaloo - spicy and tangy lamb curry from Goa\\n     - Fish Curry - fish simmered in a spicy coconut gravy\\n     - Prawn Masala - prawns cooked in a spiced onion and tomato gravy\\n\\n- Breads:\\n     - Naan - leavened bread baked in a tandoor\\n     - Garlic Naan - naan bread topped with garlic and coriander\\n     - Roti - whole wheat flatbread\\n     - Paratha - layered whole wheat flatbread\\n     - Kulcha - leavened bread stuffed with vegetables or cheese\\n\\n- Rice Dishes:\\n     - Plain Basmati Rice\\n     - Jeera Rice - rice tempered with cumin seeds\\n     - Vegetable Biryani - spiced rice with mixed vegetables\\n     - Chicken Dum Biryani - aromatic rice with chicken, spices, and herbs\\n     - Lamb Hyderabadi Biryani - a famous biryani variant with lamb\\n\\n- Desserts:\\n     - Gulab Jamun - milk solids dumplings in sugar syrup\\n     - Gajar ka Halwa - carrot pudding\\n     - Kulfi - Indian ice cream with pistachios and cardamom\\n     - Rasmalai - spiced cheese balls in sweetened milk\\n     - Kheer - Indian rice pudding\\n\\n- Beverages:\\n     - Mango Lassi - a yogurt-based mango drink\\n     - Salted Lassi - traditional yogurt-based drink\\n     - Masala Chai - spiced Indian tea\\n     - Badam Milk - almond milk\\n     - Jeera Paani - cumin-flavored digestive drink\\n\\nRemember, these are just suggestions, and you can always add your special touches and unique family recipes to the menu to make it more authentic and appealing to your customers!'}\n"
     ]
    }
   ],
   "source": [
    "from langchain.chains import SequentialChain\n",
    "chain = SequentialChain(chains=[name_chain, food_item_chain],\n",
    "                  input_variables=['cuisine'],\n",
    "                  output_variables=['restaurant_name', 'menu_items']\n",
    "         )\n",
    "responce = chain({\"cuisine\":\"Indian\"})\n",
    "print(responce)"
   ]
  },
  {
   "cell_type": "code",
   "execution_count": null,
   "metadata": {},
   "outputs": [],
   "source": []
  }
 ],
 "metadata": {
  "kernelspec": {
   "display_name": "Python 3",
   "language": "python",
   "name": "python3"
  },
  "language_info": {
   "codemirror_mode": {
    "name": "ipython",
    "version": 3
   },
   "file_extension": ".py",
   "mimetype": "text/x-python",
   "name": "python",
   "nbconvert_exporter": "python",
   "pygments_lexer": "ipython3",
   "version": "3.12.1"
  }
 },
 "nbformat": 4,
 "nbformat_minor": 2
}
